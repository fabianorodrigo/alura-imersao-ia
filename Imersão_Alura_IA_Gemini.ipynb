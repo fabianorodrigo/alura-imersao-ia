{
  "nbformat": 4,
  "nbformat_minor": 0,
  "metadata": {
    "colab": {
      "provenance": [],
      "collapsed_sections": [
        "ZBz-Hi9um-r4"
      ],
      "authorship_tag": "ABX9TyOkhI16Hcnwccs4At3idaoU",
      "include_colab_link": true
    },
    "kernelspec": {
      "name": "python3",
      "display_name": "Python 3"
    },
    "language_info": {
      "name": "python"
    }
  },
  "cells": [
    {
      "cell_type": "markdown",
      "metadata": {
        "id": "view-in-github",
        "colab_type": "text"
      },
      "source": [
        "<a href=\"https://colab.research.google.com/github/fabianorodrigo/alura-imersao-ia/blob/main/Imers%C3%A3o_Alura_IA_Gemini.ipynb\" target=\"_parent\"><img src=\"https://colab.research.google.com/assets/colab-badge.svg\" alt=\"Open In Colab\"/></a>"
      ]
    },
    {
      "cell_type": "markdown",
      "source": [
        "# Imersão - Aula 4"
      ],
      "metadata": {
        "id": "Y9SUkinCmdz4"
      }
    },
    {
      "cell_type": "markdown",
      "source": [
        "### Instalar SDK Gemini"
      ],
      "metadata": {
        "id": "ZBz-Hi9um-r4"
      }
    },
    {
      "cell_type": "code",
      "execution_count": 3,
      "metadata": {
        "id": "4T5NmGgFmWSF"
      },
      "outputs": [],
      "source": [
        "!pip install -q -U google-generativeai"
      ]
    },
    {
      "cell_type": "markdown",
      "source": [
        "### Setup da API Key"
      ],
      "metadata": {
        "id": "Lr06GaL0mpFa"
      }
    },
    {
      "cell_type": "code",
      "source": [
        "# Import the Python SDK\n",
        "import google.generativeai as genai\n",
        "# Used to securely store your API key\n",
        "from google.colab import userdata\n",
        "\n",
        "GOOGLE_API_KEY=userdata.get('GEMINI_API_KEY')\n",
        "genai.configure(api_key=GOOGLE_API_KEY)"
      ],
      "metadata": {
        "id": "bXWUhGwNm4XA"
      },
      "execution_count": 14,
      "outputs": []
    },
    {
      "cell_type": "markdown",
      "source": [
        "### Listar Modelos"
      ],
      "metadata": {
        "id": "O999UXjenSwp"
      }
    },
    {
      "cell_type": "code",
      "source": [
        "for m in genai.list_models():\n",
        "  if 'generateContent' in m.supported_generation_methods:\n",
        "    print(m.name)"
      ],
      "metadata": {
        "colab": {
          "base_uri": "https://localhost:8080/",
          "height": 139
        },
        "id": "etw2ztx9nUuH",
        "outputId": "4330c67a-681a-46f9-e173-9e467bbdae41"
      },
      "execution_count": 15,
      "outputs": [
        {
          "output_type": "stream",
          "name": "stdout",
          "text": [
            "models/gemini-1.0-pro\n",
            "models/gemini-1.0-pro-001\n",
            "models/gemini-1.0-pro-latest\n",
            "models/gemini-1.0-pro-vision-latest\n",
            "models/gemini-1.5-pro-latest\n",
            "models/gemini-pro\n",
            "models/gemini-pro-vision\n"
          ]
        }
      ]
    },
    {
      "cell_type": "markdown",
      "source": [
        "### Configurar IA\n",
        "\n",
        "Configurações funcionais do modelo"
      ],
      "metadata": {
        "id": "Cc_Rc6qCpLEh"
      }
    },
    {
      "cell_type": "code",
      "source": [
        "generation_config = {\n",
        "    \"candidate_count\": 1,\n",
        "    \"temperature\": 0.5\n",
        "\n",
        "}"
      ],
      "metadata": {
        "id": "z46UqfOhpOzR"
      },
      "execution_count": 16,
      "outputs": []
    },
    {
      "cell_type": "markdown",
      "source": [
        "Configurações de Segurança"
      ],
      "metadata": {
        "id": "W561PHStpuKo"
      }
    },
    {
      "cell_type": "code",
      "source": [
        "safety_settings = {\n",
        "    \"HARASSMENT\": \"BLOCK_NONE\",\n",
        "    \"HATE\": \"BLOCK_NONE\",\n",
        "    \"SEXUAL\": \"BLOCK_NONE\",\n",
        "    \"DANGEROUS\": \"BLOCK_NONE\"\n",
        "}"
      ],
      "metadata": {
        "id": "yecy-l5FpwCr"
      },
      "execution_count": 17,
      "outputs": []
    },
    {
      "cell_type": "markdown",
      "source": [
        "### Inicialização do Modelo e Geração de Conteúdo\n"
      ],
      "metadata": {
        "id": "My2WowA7qxRQ"
      }
    },
    {
      "cell_type": "code",
      "source": [
        "model = genai.GenerativeModel(model_name=\"gemini-1.0-pro\",safety_settings=safety_settings,generation_config=generation_config)"
      ],
      "metadata": {
        "id": "WNNuiZdlqzVZ"
      },
      "execution_count": 18,
      "outputs": []
    },
    {
      "cell_type": "code",
      "source": [
        "response = model.generate_content(\"Fazer um tutorial passo a passo para criação de uma empresa de produção de alimentos não perecíveis na cidade do Rio de Janeiro\")\n",
        "print(response.text)"
      ],
      "metadata": {
        "colab": {
          "base_uri": "https://localhost:8080/",
          "height": 1000
        },
        "id": "ToGgDsvAr0HB",
        "outputId": "5c412957-5395-4221-c9da-ef6a6b5dea01"
      },
      "execution_count": 19,
      "outputs": [
        {
          "output_type": "stream",
          "name": "stdout",
          "text": [
            "**Tutorial Passo a Passo para Criação de uma Empresa de Produção de Alimentos Não Perecíveis no Rio de Janeiro**\n",
            "\n",
            "**Passo 1: Escolha do Tipo de Empresa**\n",
            "\n",
            "* Defina o tipo de empresa que você deseja criar, como Sociedade Limitada (Ltda.) ou Empresa Individual de Responsabilidade Limitada (EIRELI).\n",
            "* Consulte um contador ou advogado para aconselhamento jurídico.\n",
            "\n",
            "**Passo 2: Registro na Junta Comercial**\n",
            "\n",
            "* Acesse o site da Junta Comercial do Estado do Rio de Janeiro (Jucerja): https://www.jucerja.rj.gov.br/\n",
            "* Preencha o formulário de abertura de empresa e pague as taxas de registro.\n",
            "* Aguarde a aprovação do registro e obtenha o Número de Identificação do Registro da Empresa (NIRE).\n",
            "\n",
            "**Passo 3: Obtenção do CNPJ**\n",
            "\n",
            "* Acesse o site da Receita Federal: https://www.gov.br/receitafederal\n",
            "* Preencha o Cadastro Nacional da Pessoa Jurídica (CNPJ) e pague as taxas de registro.\n",
            "* Aguarde a emissão do CNPJ, que é o número de identificação fiscal da sua empresa.\n",
            "\n",
            "**Passo 4: Licenciamento Sanitário**\n",
            "\n",
            "* Entre em contato com a Vigilância Sanitária do Município do Rio de Janeiro: https://www.rio.rj.gov.br/web/vigilanciasanitaria\n",
            "* Obtenha o Alvará de Licença Sanitária, que autoriza a produção e comercialização de alimentos não perecíveis.\n",
            "* Cumpra as normas sanitárias e de segurança alimentar estabelecidas pela Vigilância Sanitária.\n",
            "\n",
            "**Passo 5: Registro de Marca e Patente**\n",
            "\n",
            "* Se você tiver uma marca ou patente para seus produtos, registre-as no Instituto Nacional da Propriedade Industrial (INPI): https://www.gov.br/inpi\n",
            "* Isso protegerá sua propriedade intelectual e evitará cópias não autorizadas.\n",
            "\n",
            "**Passo 6: Escolha do Local**\n",
            "\n",
            "* Encontre um local adequado para sua fábrica de produção, considerando fatores como tamanho, localização e custo.\n",
            "* Certifique-se de que o local atenda aos requisitos sanitários e de segurança.\n",
            "\n",
            "**Passo 7: Aquisição de Equipamentos**\n",
            "\n",
            "* Adquira os equipamentos necessários para a produção de seus alimentos não perecíveis, como máquinas de embalagem, fornos e equipamentos de refrigeração.\n",
            "* Verifique se os equipamentos estão em conformidade com as normas sanitárias.\n",
            "\n",
            "**Passo 8: Contratação de Pessoal**\n",
            "\n",
            "* Contrate funcionários qualificados para operar os equipamentos e gerenciar a produção.\n",
            "* Forneça treinamento adequado sobre segurança alimentar e procedimentos operacionais.\n",
            "\n",
            "**Passo 9: Definição de Processos de Produção**\n",
            "\n",
            "* Estabeleça processos de produção padronizados para garantir a qualidade e segurança dos seus produtos.\n",
            "* Documente esses processos em um Manual de Boas Práticas de Fabricação (BPF).\n",
            "\n",
            "**Passo 10: Comercialização e Distribuição**\n",
            "\n",
            "* Determine os canais de distribuição para seus produtos, como supermercados, atacadistas e lojas especializadas.\n",
            "* Crie estratégias de marketing e vendas para promover seus produtos e atingir seu público-alvo.\n",
            "\n",
            "**Passo 11: Monitoramento e Controle de Qualidade**\n",
            "\n",
            "* Estabeleça um sistema de monitoramento e controle de qualidade para garantir que seus produtos atendam aos padrões de segurança e qualidade.\n",
            "* Conduza testes regulares e auditorias internas para identificar e corrigir quaisquer problemas.\n",
            "\n",
            "**Dicas Adicionais:**\n",
            "\n",
            "* Realize pesquisas de mercado para identificar as necessidades e tendências do setor.\n",
            "* Participe de feiras e eventos do setor para promover seus produtos e conhecer clientes em potencial.\n",
            "* Busque orientação de especialistas em produção de alimentos e segurança alimentar.\n",
            "* Mantenha-se atualizado sobre as regulamentações e normas sanitárias aplicáveis.\n"
          ]
        }
      ]
    },
    {
      "cell_type": "markdown",
      "source": [
        "### Inicialização de Chat"
      ],
      "metadata": {
        "id": "u-3Bl4lHsiIi"
      }
    },
    {
      "cell_type": "code",
      "source": [
        "chat = model.start_chat(history=[])"
      ],
      "metadata": {
        "id": "xv_2DnkeslOv"
      },
      "execution_count": 10,
      "outputs": []
    },
    {
      "cell_type": "code",
      "source": [
        "prompt = input(\"Pergunte: \")\n",
        "\n",
        "while prompt != \"\" and prompt != \"fim\":\n",
        "  response = chat.send_message(prompt)\n",
        "  print(\"Respostas: \", response.text, \"\\n\")\n",
        "  prompt = input(\"Pergunte: \")"
      ],
      "metadata": {
        "id": "_1dDYAYms4wF"
      },
      "execution_count": null,
      "outputs": []
    },
    {
      "cell_type": "code",
      "source": [
        "import textwrap\n",
        "from IPython.display import display\n",
        "from IPython.display import Markdown\n",
        "\n",
        "def to_markdown(text):\n",
        "  text = text.replace('*', ' *')\n",
        "  return Markdown(textwrap.indent(text, '> ',predicate=lambda _: True))\n",
        "\n",
        "for message in chat.history:\n",
        "  display(to_markdown(f'**{message.role}**: {message.parts[0].text}'))\n",
        "  print('------------------------------------------------------------')"
      ],
      "metadata": {
        "colab": {
          "base_uri": "https://localhost:8080/",
          "height": 1000
        },
        "id": "PYFz4BlkvwcR",
        "outputId": "6cd8547d-4ee2-4f83-d354-7e7249af3b43"
      },
      "execution_count": 13,
      "outputs": [
        {
          "output_type": "display_data",
          "data": {
            "text/plain": [
              "<IPython.core.display.Markdown object>"
            ],
            "text/markdown": ">  * *user * *: quero receita que tenha coco como ingrediente"
          },
          "metadata": {}
        },
        {
          "output_type": "stream",
          "name": "stdout",
          "text": [
            "------------------------------------------------------------\n"
          ]
        },
        {
          "output_type": "display_data",
          "data": {
            "text/plain": [
              "<IPython.core.display.Markdown object>"
            ],
            "text/markdown": ">  * *model * *:  * *Bolo de Coco * *\n> \n>  * *Ingredientes: * *\n> \n>  * 1 xícara (chá) de farinha de trigo\n>  * 1 xícara (chá) de açúcar\n>  * 1 colher (sopa) de fermento em pó\n>  * 1/2 colher (chá) de sal\n>  * 1/2 xícara (chá) de leite\n>  * 1/4 xícara (chá) de óleo vegetal\n>  * 1 ovo\n>  * 1 colher (sopa) de extrato de baunilha\n>  * 1 xícara (chá) de coco ralado\n> \n>  * *Modo de Preparo: * *\n> \n> 1. Pré-aqueça o forno a 180°C (350°F). Unte e enfarinhe uma forma de bolo de 20 cm.\n> 2. Em uma tigela média, misture a farinha, o açúcar, o fermento e o sal.\n> 3. Em outra tigela, misture o leite, o óleo, o ovo e o extrato de baunilha.\n> 4. Adicione os ingredientes líquidos aos ingredientes secos e misture até incorporar.\n> 5. Por fim, adicione o coco ralado e misture bem.\n> 6. Despeje a massa na forma preparada e asse por cerca de 30-35 minutos, ou até que um palito inserido no centro saia limpo.\n> 7. Deixe o bolo esfriar na forma por 10 minutos antes de desenformar.\n> \n>  * *Arroz Doce de Coco * *\n> \n>  * *Ingredientes: * *\n> \n>  * 1 xícara (chá) de arroz\n>  * 4 xícaras (chá) de água\n>  * 1 lata (395g) de leite condensado\n>  * 1 lata (300ml) de leite de coco\n>  * 1/2 xícara (chá) de coco ralado\n>  * 1 pau de canela\n>  * Cravo-da-índia a gosto\n> \n>  * *Modo de Preparo: * *\n> \n> 1. Lave o arroz e escorra.\n> 2. Em uma panela, coloque o arroz, a água e o pau de canela.\n> 3. Leve ao fogo médio e deixe cozinhar até que a água seque e o arroz esteja cozido.\n> 4. Adicione o leite condensado, o leite de coco e o coco ralado.\n> 5. Misture bem e deixe cozinhar em fogo baixo, mexendo ocasionalmente, até engrossar.\n> 6. Retire do fogo e descarte o pau de canela.\n> 7. Adicione cravo-da-índia a gosto e sirva quente ou frio.\n> \n>  * *Biscoitos de Coco * *\n> \n>  * *Ingredientes: * *\n> \n>  * 1 xícara (chá) de manteiga sem sal, amolecida\n>  * 1/2 xícara (chá) de açúcar mascavo\n>  * 1/4 xícara (chá) de açúcar refinado\n>  * 1 ovo grande\n>  * 1 colher (chá) de extrato de baunilha\n>  * 2 xícaras (chá) de farinha de trigo\n>  * 1 colher (chá) de fermento em pó\n>  * 1/2 colher (chá) de sal\n>  * 1 xícara (chá) de coco ralado\n> \n>  * *Modo de Preparo: * *\n> \n> 1. Pré-aqueça o forno a 180°C (350°F). Forre uma assadeira com papel manteiga.\n> 2. Em uma tigela grande, bata a manteiga, o açúcar mascavo e o açúcar refinado até ficar cremoso.\n> 3. Adicione o ovo e o extrato de baunilha e bata até incorporar.\n> 4. Em outra tigela, misture a farinha, o fermento e o sal.\n> 5. Adicione gradualmente os ingredientes secos aos ingredientes úmidos, misturando até formar uma massa.\n> 6. Por fim, adicione o coco ralado e misture bem.\n> 7. Faça bolinhas com a massa e coloque-as na assadeira preparada.\n> 8. Asse por cerca de 10-12 minutos, ou até que as bordas estejam douradas.\n> 9. Deixe os biscoitos esfriarem na assadeira por alguns minutos antes de transferi-los para uma grade para esfriar completamente."
          },
          "metadata": {}
        },
        {
          "output_type": "stream",
          "name": "stdout",
          "text": [
            "------------------------------------------------------------\n"
          ]
        },
        {
          "output_type": "display_data",
          "data": {
            "text/plain": [
              "<IPython.core.display.Markdown object>"
            ],
            "text/markdown": ">  * *user * *: quais dessas receitas são salgadas?"
          },
          "metadata": {}
        },
        {
          "output_type": "stream",
          "name": "stdout",
          "text": [
            "------------------------------------------------------------\n"
          ]
        },
        {
          "output_type": "display_data",
          "data": {
            "text/plain": [
              "<IPython.core.display.Markdown object>"
            ],
            "text/markdown": ">  * *model * *: Nenhuma das receitas fornecidas é salgada. Todas elas são doces:\n> \n>  * Bolo de Coco\n>  * Arroz Doce de Coco\n>  * Biscoitos de Coco"
          },
          "metadata": {}
        },
        {
          "output_type": "stream",
          "name": "stdout",
          "text": [
            "------------------------------------------------------------\n"
          ]
        },
        {
          "output_type": "display_data",
          "data": {
            "text/plain": [
              "<IPython.core.display.Markdown object>"
            ],
            "text/markdown": ">  * *user * *: poderia sugerir receitas salgadas?"
          },
          "metadata": {}
        },
        {
          "output_type": "stream",
          "name": "stdout",
          "text": [
            "------------------------------------------------------------\n"
          ]
        },
        {
          "output_type": "display_data",
          "data": {
            "text/plain": [
              "<IPython.core.display.Markdown object>"
            ],
            "text/markdown": ">  * *model * *:  * *Camarão ao Coco * *\n> \n>  * *Ingredientes: * *\n> \n>  * 500g de camarão limpo e sem casca\n>  * 1 xícara (chá) de leite de coco\n>  * 1/2 xícara (chá) de coco ralado\n>  * 1/4 xícara (chá) de suco de limão\n>  * 2 colheres (sopa) de azeite de oliva\n>  * 1 cebola picada\n>  * 2 dentes de alho picados\n>  * 1 colher (chá) de gengibre ralado\n>  * 1 colher (chá) de curry em pó\n>  * 1/2 colher (chá) de sal\n>  * 1/4 colher (chá) de pimenta-do-reino\n> \n>  * *Modo de Preparo: * *\n> \n> 1. Em uma tigela, misture o camarão, o leite de coco, o coco ralado, o suco de limão, o azeite, a cebola, o alho, o gengibre, o curry, o sal e a pimenta-do-reino.\n> 2. Deixe marinar por pelo menos 30 minutos.\n> 3. Aqueça uma frigideira ou wok em fogo médio.\n> 4. Escorra o camarão da marinada e reserve a marinada.\n> 5. Adicione o camarão à frigideira e cozinhe até dourar de todos os lados.\n> 6. Adicione a marinada reservada e deixe ferver.\n> 7. Reduza o fogo e cozinhe por mais 5-7 minutos, ou até que o molho engrosse e o camarão esteja cozido.\n> 8. Sirva com arroz ou legumes cozidos.\n> \n>  * *Sopa de Abóbora com Leite de Coco * *\n> \n>  * *Ingredientes: * *\n> \n>  * 1 abóbora média (cerca de 1,5 kg)\n>  * 1 cebola picada\n>  * 2 dentes de alho picados\n>  * 2 colheres (sopa) de azeite de oliva\n>  * 1 lata (400ml) de leite de coco\n>  * 4 xícaras (chá) de caldo de legumes\n>  * 1 colher (chá) de curry em pó\n>  * 1/2 colher (chá) de gengibre em pó\n>  * 1/4 colher (chá) de sal\n>  * 1/4 colher (chá) de pimenta-do-reino\n> \n>  * *Modo de Preparo: * *\n> \n> 1. Descasque e corte a abóbora em cubos.\n> 2. Em uma panela grande ou panela de pressão, aqueça o azeite em fogo médio.\n> 3. Adicione a cebola e o alho e refogue até ficarem macios.\n> 4. Adicione a abóbora, o leite de coco, o caldo de legumes, o curry, o gengibre, o sal e a pimenta-do-reino.\n> 5. Leve para ferver.\n> 6. Reduza o fogo e cozinhe por cerca de 20 minutos, ou até que a abóbora esteja macia.\n> 7. Se usar uma panela de pressão, cozinhe por cerca de 10 minutos.\n> 8. Bata a sopa com um mixer de mão ou liquidificador até ficar homogênea.\n> 9. Sirva quente com pão ou croutons."
          },
          "metadata": {}
        },
        {
          "output_type": "stream",
          "name": "stdout",
          "text": [
            "------------------------------------------------------------\n"
          ]
        },
        {
          "output_type": "display_data",
          "data": {
            "text/plain": [
              "<IPython.core.display.Markdown object>"
            ],
            "text/markdown": ">  * *user * *: pode sugerir alguma receita que leve boldo?"
          },
          "metadata": {}
        },
        {
          "output_type": "stream",
          "name": "stdout",
          "text": [
            "------------------------------------------------------------\n"
          ]
        },
        {
          "output_type": "display_data",
          "data": {
            "text/plain": [
              "<IPython.core.display.Markdown object>"
            ],
            "text/markdown": ">  * *model * *:  * *Chá de Boldo * *\n> \n>  * *Ingredientes: * *\n> \n>  * 1 colher (sopa) de folhas secas de boldo\n>  * 1 xícara (chá) de água fervente\n> \n>  * *Modo de Preparo: * *\n> \n> 1. Coloque as folhas de boldo em uma xícara ou bule de chá.\n> 2. Despeje a água fervente sobre as folhas.\n> 3. Deixe em infusão por 5-10 minutos.\n> 4. Coe e sirva quente.\n> \n>  * *Benefícios: * *\n> \n>  * Ajuda na digestão\n>  * Reduz gases e inchaço\n>  * Estimula o apetite\n>  * Tem propriedades anti-inflamatórias e antioxidantes\n> \n>  * *Observação: * * O chá de boldo não deve ser consumido em grandes quantidades ou por longos períodos de tempo, pois pode causar efeitos colaterais como náuseas, vômitos e diarreia.\n> \n>  * *Salada de Frutas com Boldo * *\n> \n>  * *Ingredientes: * *\n> \n>  * 1 xícara (chá) de frutas vermelhas (morangos, framboesas, mirtilos)\n>  * 1 xícara (chá) de frutas cítricas (laranja, grapefruit, tangerina)\n>  * 1/2 xícara (chá) de folhas frescas de boldo picadas\n>  * 1/4 xícara (chá) de nozes picadas\n>  * 1 colher (sopa) de mel\n>  * 1 colher (chá) de suco de limão\n> \n>  * *Modo de Preparo: * *\n> \n> 1. Em uma tigela, misture as frutas vermelhas, as frutas cítricas, o boldo, as nozes, o mel e o suco de limão.\n> 2. Misture bem e sirva imediatamente.\n> \n>  * *Benefícios: * *\n> \n>  * Rica em vitaminas, minerais e antioxidantes\n>  * Ajuda na digestão\n>  * Refrescante e saborosa\n> \n>  * *Observação: * * As folhas de boldo devem ser usadas frescas, pois as folhas secas perdem seu sabor e propriedades medicinais."
          },
          "metadata": {}
        },
        {
          "output_type": "stream",
          "name": "stdout",
          "text": [
            "------------------------------------------------------------\n"
          ]
        }
      ]
    }
  ]
}